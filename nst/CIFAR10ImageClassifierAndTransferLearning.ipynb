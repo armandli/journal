{
 "cells": [
  {
   "cell_type": "code",
   "execution_count": 1,
   "metadata": {},
   "outputs": [],
   "source": [
    "import torch\n",
    "import torch.nn as nn\n",
    "import torch.nn.functional as F\n",
    "import torch.utils as utils\n",
    "import torch.optim as optim\n",
    "import torchvision\n",
    "from torchvision import datasets\n",
    "from torchvision import transforms\n",
    "import torchvision.models as models\n",
    "import matplotlib.pyplot as plt\n",
    "import numpy as np\n",
    "import math\n",
    "import random\n",
    "import seaborn as sn\n",
    "import pandas as pd"
   ]
  },
  {
   "cell_type": "markdown",
   "metadata": {},
   "source": [
    "### CIFAR10 Dataset"
   ]
  },
  {
   "cell_type": "code",
   "execution_count": 2,
   "metadata": {},
   "outputs": [],
   "source": [
    "use_cuda = torch.cuda.is_available()\n",
    "device = torch.device('cuda' if use_cuda else 'cpu')"
   ]
  },
  {
   "cell_type": "code",
   "execution_count": 3,
   "metadata": {},
   "outputs": [],
   "source": [
    "default_batch_size = 32\n",
    "loader_args = {'batch_size' : default_batch_size, 'shuffle' : True}\n",
    "if use_cuda:\n",
    "    loader_args.update({'pin_memory' : True, 'num_workers' : 1})"
   ]
  },
  {
   "cell_type": "code",
   "execution_count": 4,
   "metadata": {},
   "outputs": [
    {
     "name": "stdout",
     "output_type": "stream",
     "text": [
      "Files already downloaded and verified\n",
      "Files already downloaded and verified\n"
     ]
    }
   ],
   "source": [
    "trainset = datasets.CIFAR10(root='../data', train=True, download=True, transform=transforms.ToTensor())\n",
    "train_loader = utils.data.DataLoader(trainset, **loader_args)\n",
    "testset  = datasets.CIFAR10(root='../data', train=False, download=True, transform=transforms.ToTensor())\n",
    "test_loader  = utils.data.DataLoader(testset, **loader_args)"
   ]
  },
  {
   "cell_type": "code",
   "execution_count": 5,
   "metadata": {},
   "outputs": [
    {
     "data": {
      "text/plain": [
       "torch.Size([3, 32, 32])"
      ]
     },
     "execution_count": 5,
     "metadata": {},
     "output_type": "execute_result"
    }
   ],
   "source": [
    "image_size = trainset[0][0].size()\n",
    "image_size"
   ]
  },
  {
   "cell_type": "code",
   "execution_count": 6,
   "metadata": {},
   "outputs": [],
   "source": [
    "input_channel_size = 3\n",
    "input_image_size = 32\n",
    "label_size = 10"
   ]
  },
  {
   "cell_type": "markdown",
   "metadata": {},
   "source": [
    "### CIFAR10 CNN Model"
   ]
  },
  {
   "cell_type": "code",
   "execution_count": 7,
   "metadata": {},
   "outputs": [],
   "source": [
    "class CIFAR10Classifier(nn.Module):\n",
    "    def __init__(self, ichannel_size, isize, osize):\n",
    "        super(CIFAR10Classifier, self).__init__()\n",
    "        fc1_size = int(((math.floor((math.floor((isize - 2) / 2) - 2) / 2) ** 2) * 64))\n",
    "        self.conv1 = nn.Conv2d(ichannel_size, 32, 3, padding=1)\n",
    "        self.conv2 = nn.Conv2d(32, 32, 3)\n",
    "        self.pool1 = nn.MaxPool2d(2)\n",
    "        self.dropout1 = nn.Dropout(0.5)\n",
    "        self.conv3 = nn.Conv2d(32, 64, 3, padding=1)\n",
    "        self.conv4 = nn.Conv2d(64, 64, 3)\n",
    "        self.pool2 = nn.MaxPool2d(2)\n",
    "        self.dropout2 = nn.Dropout(0.5)\n",
    "        self.fc1 = nn.Linear(fc1_size, 512)\n",
    "        self.dropout3 = nn.Dropout(0.5)\n",
    "        self.fc2 = nn.Linear(512, osize)\n",
    "    \n",
    "    def forward(self, x):\n",
    "        x = self.conv1(x)\n",
    "        x = F.relu(x)\n",
    "        x = self.conv2(x)\n",
    "        x = F.relu(x)\n",
    "        x = self.pool1(x)\n",
    "        x = self.dropout1(x)\n",
    "        x = self.conv3(x)\n",
    "        x = F.relu(x)\n",
    "        x = self.conv4(x)\n",
    "        x = F.relu(x)\n",
    "        x = self.pool2(x)\n",
    "        x = self.dropout2(x)\n",
    "        x = torch.flatten(x, 1)\n",
    "        x = self.fc1(x)\n",
    "        x = self.dropout3(x)\n",
    "        x = self.fc2(x)\n",
    "        x = F.log_softmax(x, dim=1)\n",
    "        return x"
   ]
  },
  {
   "cell_type": "code",
   "execution_count": 8,
   "metadata": {},
   "outputs": [],
   "source": [
    "model_file = '../models/cifar10_classifier.pt'\n",
    "model = CIFAR10Classifier(input_channel_size, input_image_size, label_size)\n",
    "model = model.to(device)"
   ]
  },
  {
   "cell_type": "markdown",
   "metadata": {},
   "source": [
    "### Training"
   ]
  },
  {
   "cell_type": "code",
   "execution_count": 7,
   "metadata": {},
   "outputs": [],
   "source": [
    "from abc import ABC, abstractmethod\n",
    "\n",
    "class StatsCollector(ABC):\n",
    "    @abstractmethod\n",
    "    def train_gather(self, epoch, batch_idx, batch_size, dataset_size, loss):\n",
    "        pass\n",
    "    @abstractmethod\n",
    "    def eval_gather(self, train_epoch, loss, accuracy):\n",
    "        pass\n",
    "    @abstractmethod\n",
    "    def eval_pred_gather(self, train_epoch, predictions, targets):\n",
    "        pass\n",
    "    @abstractmethod\n",
    "    def train_reset(self):\n",
    "        pass\n",
    "    @abstractmethod\n",
    "    def eval_reset(self):\n",
    "        pass\n",
    "\n",
    "class FrequentLossCollector(StatsCollector):\n",
    "    def __init__(self, batch_size, frequency, report_frequency = 0, eval_report_frequency = 0):\n",
    "        self.batch_size = batch_size\n",
    "        self.frequency = frequency\n",
    "        self.report_frequency = report_frequency\n",
    "        self.eval_report_frequency = eval_report_frequency\n",
    "        self.losses = []\n",
    "        self.eval_losses = []\n",
    "        self.eval_predictions_targets = []\n",
    "    def train_gather(self, epoch, batch_idx, dataset_size, loss):\n",
    "        if (epoch * (dataset_size / self.batch_size) + batch_idx) % self.frequency == 0:\n",
    "            self.losses.append((epoch, batch_idx, dataset_size, loss))\n",
    "        if report_frequency > 0 and (epoch * (dataset_size / self.batch_size) + batch_idx) % self.report_frequency == 0:\n",
    "            print(\"Epoch {}, {}/{}: {}\".format(epoch, batch_idx * self.batch_size, dataset_size, loss))\n",
    "    def eval_gather(self, train_epoch, loss, accuracy):\n",
    "        self.eval_losses.append((train_epoch, loss, accuracy))\n",
    "        if self.eval_report_frequency > 0 and train_epoch % self.eval_report_frequency == 0:\n",
    "            print(\"Epoch {}: loss {} accuracy {}\".format(train_epoch, loss, accuracy))\n",
    "    def eval_pred_gather(self, train_epoch, predictions, targets):\n",
    "        self.eval_predictions_targets.append((train_epoch, predictions, targets))\n",
    "    def train_reset(self):\n",
    "        self.losses = []\n",
    "    def eval_reset(self):\n",
    "        self.eval_losses = []\n",
    "        self.eval_predictions_targets = []\n",
    "\n",
    "class EpochLossCollector(StatsCollector):\n",
    "    def __init__(self, batch_size, frequency, report_frequency = 0, eval_report_frequency = 0):\n",
    "        self.batch_size = batch_size\n",
    "        self.frequency = frequency\n",
    "        self.report_frequency = report_frequency\n",
    "        self.eval_report_frequency = eval_report_frequency\n",
    "        self.losses = []\n",
    "        self.eval_losses = []\n",
    "        self.eval_predictions_targets = []\n",
    "    def train_gather(self, epoch, batch_idx, dataset_size, loss):\n",
    "        if epoch % self.frequency == 0 and (batch_idx + 1) * self.batch_size >= dataset_size:\n",
    "            self.losses.append((epoch, loss))\n",
    "        if self.report_frequency > 0 and epoch % self.report_frequency == 0 and (batch_idx + 1) * self.batch_size >= dataset_size:\n",
    "            print(\"Epoch {}, {}/{}: {}\".format(epoch, batch_idx * self.batch_size, dataset_size, loss))\n",
    "    def eval_gather(self, train_epoch, loss, accuracy):\n",
    "        self.eval_losses.append((train_epoch, loss, accuracy))\n",
    "        if self.eval_report_frequency > 0 and train_epoch % self.eval_report_frequency == 0:\n",
    "            print(\"Epoch {}: loss {} accuracy {}\".format(train_epoch, loss, accuracy))\n",
    "    def eval_pred_gather(self, train_epoch, predictions, targets):\n",
    "        self.eval_predictions_targets.append((train_epoch, predictions, targets))\n",
    "    def train_reset(self):\n",
    "        self.losses = []\n",
    "    def eval_reset(self):\n",
    "        self.eval_losses = []\n",
    "        self.eval_predictions_targets = []"
   ]
  },
  {
   "cell_type": "code",
   "execution_count": 8,
   "metadata": {},
   "outputs": [],
   "source": [
    "def train(model, device, loader, optimizer, loss, epoch, collector):\n",
    "    model.train()\n",
    "    for batch_idx, (data, target) in enumerate(loader):\n",
    "        data, target = data.to(device), target.to(device)\n",
    "        optimizer.zero_grad()\n",
    "        output = model(data)\n",
    "        l = loss(output, target)\n",
    "        l.backward()\n",
    "        optimizer.step()\n",
    "        collector.train_gather(epoch, batch_idx, len(loader.dataset), l.item())"
   ]
  },
  {
   "cell_type": "code",
   "execution_count": 9,
   "metadata": {},
   "outputs": [],
   "source": [
    "def validate(model, device, loader, loss, train_epoch, collector):\n",
    "    model.eval()\n",
    "    total_loss = 0.\n",
    "    total_corrects = 0.\n",
    "    with torch.no_grad():\n",
    "        for data, target in loader:\n",
    "            data, target = data.to(device), target.to(device)\n",
    "            output = model(data)\n",
    "            total_loss += loss(output, target).item()\n",
    "            pred = output.argmax(dim=1, keepdim=True)\n",
    "            collector.eval_pred_gather(train_epoch, pred, target)\n",
    "            corrects = pred.eq(target.view_as(pred)).sum().item()\n",
    "            total_corrects += corrects\n",
    "    total_loss /= len(loader.dataset)\n",
    "    accuracy = total_corrects / len(loader.dataset)\n",
    "    collector.eval_gather(train_epoch, total_loss, accuracy)"
   ]
  },
  {
   "cell_type": "code",
   "execution_count": 10,
   "metadata": {},
   "outputs": [],
   "source": [
    "def train_validate(model, device, train_loader, test_loader, optimizer, loss, collector, total_epoch):\n",
    "    for epoch in range(total_epoch):\n",
    "        train(model, device, train_loader, optimizer, loss, epoch, collector)\n",
    "        validate(model, device, test_loader, loss, epoch, collector)"
   ]
  },
  {
   "cell_type": "code",
   "execution_count": 13,
   "metadata": {},
   "outputs": [],
   "source": [
    "learning_rate = 0.0001\n",
    "total_epochs = 10\n",
    "optimizer = optim.Adam(model.parameters(), lr=learning_rate)\n",
    "loss = nn.NLLLoss()\n",
    "collector = EpochLossCollector(default_batch_size, 1, 1)"
   ]
  },
  {
   "cell_type": "code",
   "execution_count": 14,
   "metadata": {},
   "outputs": [
    {
     "name": "stdout",
     "output_type": "stream",
     "text": [
      "Epoch 0, 49984/50000: 1.5542114973068237\n",
      "Epoch 1, 49984/50000: 1.7739551067352295\n",
      "Epoch 2, 49984/50000: 1.1842297315597534\n",
      "Epoch 3, 49984/50000: 1.2813622951507568\n",
      "Epoch 4, 49984/50000: 0.960485577583313\n",
      "Epoch 5, 49984/50000: 1.4895951747894287\n",
      "Epoch 6, 49984/50000: 1.5221526622772217\n",
      "Epoch 7, 49984/50000: 1.1810797452926636\n",
      "Epoch 8, 49984/50000: 0.7654122114181519\n",
      "Epoch 9, 49984/50000: 1.3909032344818115\n"
     ]
    }
   ],
   "source": [
    "for i in range(total_epochs):\n",
    "    train(model, device, train_loader, optimizer, loss, i, collector)"
   ]
  },
  {
   "cell_type": "markdown",
   "metadata": {},
   "source": [
    "### Validate"
   ]
  },
  {
   "cell_type": "code",
   "execution_count": 15,
   "metadata": {},
   "outputs": [],
   "source": [
    "validate(model, device, test_loader, loss, total_epochs, collector)"
   ]
  },
  {
   "cell_type": "code",
   "execution_count": 16,
   "metadata": {},
   "outputs": [
    {
     "data": {
      "text/plain": [
       "[(20, 0.03027514417171478, 0.6611)]"
      ]
     },
     "execution_count": 16,
     "metadata": {},
     "output_type": "execute_result"
    }
   ],
   "source": [
    "collector.eval_losses"
   ]
  },
  {
   "cell_type": "markdown",
   "metadata": {},
   "source": [
    "### Saving Model"
   ]
  },
  {
   "cell_type": "code",
   "execution_count": 17,
   "metadata": {},
   "outputs": [],
   "source": [
    "torch.save(model, model_file)"
   ]
  },
  {
   "cell_type": "markdown",
   "metadata": {},
   "source": [
    "### Prediction Result"
   ]
  },
  {
   "cell_type": "code",
   "execution_count": 11,
   "metadata": {},
   "outputs": [],
   "source": [
    "def predict(model, device, loader):\n",
    "    model.eval()\n",
    "    inputs = np.empty((0,input_channel_size,input_image_size,input_image_size))\n",
    "    predictions = np.empty(0)\n",
    "    targets = np.empty(0)\n",
    "    with torch.no_grad():\n",
    "        for data, target in loader:\n",
    "            inputs = np.concatenate((inputs, data), axis=0)\n",
    "            data = data.to(device)\n",
    "            output = model(data)\n",
    "            prediction = output.argmax(dim=1)\n",
    "            prediction = prediction.cpu()\n",
    "            targets = np.concatenate((targets, target), axis=0)\n",
    "            predictions = np.concatenate((predictions, prediction), axis=0)\n",
    "    return (predictions, targets, inputs)"
   ]
  },
  {
   "cell_type": "code",
   "execution_count": 12,
   "metadata": {},
   "outputs": [],
   "source": [
    "def predictions_to_matrix(predictions, targets, n_classes):\n",
    "    mtx = [[0 for i in range(n_classes)] for i in range(n_classes)]\n",
    "    for i in range(len(predictions)):\n",
    "        mtx[int(predictions[i])][int(targets[i])] += 1\n",
    "    return mtx"
   ]
  },
  {
   "cell_type": "code",
   "execution_count": 21,
   "metadata": {},
   "outputs": [],
   "source": [
    "predictions, targets, inputs = predict(model, device, test_loader)\n",
    "confusion_matrix = predictions_to_matrix(predictions, targets, label_size)"
   ]
  },
  {
   "cell_type": "code",
   "execution_count": 24,
   "metadata": {},
   "outputs": [
    {
     "data": {
      "text/plain": [
       "<AxesSubplot:>"
      ]
     },
     "execution_count": 24,
     "metadata": {},
     "output_type": "execute_result"
    },
    {
     "data": {
      "image/png": "[encoded data removed]",
      "text/plain": [
       "<Figure size 720x720 with 2 Axes>"
      ]
     },
     "metadata": {
      "needs_background": "light"
     },
     "output_type": "display_data"
    }
   ],
   "source": [
    "df = pd.DataFrame(confusion_matrix, index=[i for i in range(label_size)], columns=[i for i in range(label_size)])\n",
    "plt.figure(figsize=(10, 10))\n",
    "sn.heatmap(df, annot=True)"
   ]
  },
  {
   "cell_type": "code",
   "execution_count": 13,
   "metadata": {},
   "outputs": [],
   "source": [
    "tensor2image = transforms.ToPILImage()"
   ]
  },
  {
   "cell_type": "code",
   "execution_count": 14,
   "metadata": {},
   "outputs": [],
   "source": [
    "def incorrect(predictions, targets, inputs):\n",
    "    ret = []\n",
    "    for i, (pred, targ) in enumerate(zip(predictions, targets)):\n",
    "        if pred != targ:\n",
    "            ret.append((i, targ, pred, inputs[i]))\n",
    "    return ret"
   ]
  },
  {
   "cell_type": "code",
   "execution_count": 27,
   "metadata": {},
   "outputs": [],
   "source": [
    "incorrects = incorrect(predictions, targets, inputs)"
   ]
  },
  {
   "cell_type": "code",
   "execution_count": 30,
   "metadata": {},
   "outputs": [
    {
     "data": {
      "image/png": "[encoded data removed]",
      "text/plain": [
       "<PIL.Image.Image image mode=RGB size=172x172 at 0x21971ABDDC0>"
      ]
     },
     "execution_count": 30,
     "metadata": {},
     "output_type": "execute_result"
    }
   ],
   "source": [
    "sample_idxes = [random.randint(0, len(incorrects) - 1) for _ in range(25)]\n",
    "incorrect_images = np.empty((0,input_channel_size,input_image_size,input_image_size))\n",
    "for i in sample_idxes:\n",
    "    incorrect_images = np.concatenate((incorrect_images, np.expand_dims(incorrects[i][3], axis=0)), axis=0)\n",
    "incorrect_images = torch.from_numpy(incorrect_images)\n",
    "incorrect_image_grid = torchvision.utils.make_grid(incorrect_images, nrow=5)\n",
    "tensor2image(incorrect_image_grid)"
   ]
  },
  {
   "cell_type": "code",
   "execution_count": 32,
   "metadata": {},
   "outputs": [],
   "source": [
    "sample_idx = random.randint(0, len(incorrects) - 1)\n",
    "incorrect_image = torch.from_numpy(incorrects[sample_idx][3]).type(torch.FloatTensor)"
   ]
  },
  {
   "cell_type": "code",
   "execution_count": 33,
   "metadata": {},
   "outputs": [
    {
     "data": {
      "image/png": "[encoded data removed]",
      "text/plain": [
       "<PIL.Image.Image image mode=RGB size=32x32 at 0x2197356DA00>"
      ]
     },
     "execution_count": 33,
     "metadata": {},
     "output_type": "execute_result"
    }
   ],
   "source": [
    "tensor2image(incorrect_image)"
   ]
  },
  {
   "cell_type": "code",
   "execution_count": 34,
   "metadata": {},
   "outputs": [
    {
     "name": "stdout",
     "output_type": "stream",
     "text": [
      "Correct Label: 3.0 Prediction Label: 5.0\n"
     ]
    }
   ],
   "source": [
    "print(\"Correct Label: {} Prediction Label: {}\".format(incorrects[sample_idx][1], incorrects[sample_idx][2]))"
   ]
  },
  {
   "cell_type": "markdown",
   "metadata": {},
   "source": [
    "#### Label Annotation\n",
    "0. airplane\n",
    "1. automobile\n",
    "2. bird\n",
    "3. cat\n",
    "4. deer\n",
    "5. dog\n",
    "6. frog\n",
    "7. horse\n",
    "8. ship\n",
    "9. truck"
   ]
  },
  {
   "cell_type": "markdown",
   "metadata": {},
   "source": [
    "### Transfer Learning with VGG16 Network"
   ]
  },
  {
   "cell_type": "code",
   "execution_count": 11,
   "metadata": {},
   "outputs": [],
   "source": [
    "class CIFAR10_VGG16BN(nn.Module):\n",
    "    def __init__(self, osize):\n",
    "        super(CIFAR10_VGG16BN, self).__init__()\n",
    "        self.vgg16 = models.vgg16_bn(pretrained=True)\n",
    "        # lock original network layers\n",
    "        for param in self.vgg16.parameters():\n",
    "            param.requires_grad = False\n",
    "        # shorten the convolutional network, this is necessary\n",
    "        # to make the network more suitable for CIFAR10\n",
    "        new_features = []\n",
    "        for i in range(3 * 7 + 3):\n",
    "            new_features.append(self.vgg16.features[i])\n",
    "        self.vgg16.features = nn.Sequential(*new_features)\n",
    "        # replace the classifier with a smaller layer too\n",
    "        # because CIFAR10 does not need as many features\n",
    "        self.vgg16.classifier = nn.Sequential(\n",
    "            nn.Linear(256 * 7 * 7, 256),\n",
    "            nn.ReLU(inplace=True),\n",
    "            nn.Linear(256, 256),\n",
    "            nn.Dropout(0.5),\n",
    "            nn.Linear(256, osize),\n",
    "            nn.LogSoftmax(dim=1)\n",
    "        )\n",
    "        # make sure the new layers are trainable\n",
    "        for param in self.vgg16.classifier.parameters():\n",
    "            param.requires_grad = True\n",
    "        \n",
    "    def forward(self, x):\n",
    "        x = self.vgg16(x)\n",
    "        return x"
   ]
  },
  {
   "cell_type": "code",
   "execution_count": 12,
   "metadata": {},
   "outputs": [],
   "source": [
    "vgg16_model = CIFAR10_VGG16BN(label_size)\n",
    "vgg16_model = vgg16_model.to(device)"
   ]
  },
  {
   "cell_type": "code",
   "execution_count": 13,
   "metadata": {},
   "outputs": [],
   "source": [
    "vgg16_learning_rate = 0.0001\n",
    "vgg16_total_epochs = 10\n",
    "vgg16_optimizer = optim.Adam(vgg16_model.parameters(), lr=vgg16_learning_rate)\n",
    "vgg16_loss = nn.NLLLoss()\n",
    "vgg16_collector = EpochLossCollector(default_batch_size, 1, 1)"
   ]
  },
  {
   "cell_type": "code",
   "execution_count": 14,
   "metadata": {},
   "outputs": [
    {
     "name": "stdout",
     "output_type": "stream",
     "text": [
      "Epoch 0, 49984/50000: 0.41474857926368713\n",
      "Epoch 1, 49984/50000: 0.7783827781677246\n",
      "Epoch 2, 49984/50000: 0.5099256634712219\n",
      "Epoch 3, 49984/50000: 0.35317856073379517\n",
      "Epoch 4, 49984/50000: 0.8231353163719177\n",
      "Epoch 5, 49984/50000: 0.3071891665458679\n",
      "Epoch 6, 49984/50000: 0.1979789286851883\n",
      "Epoch 7, 49984/50000: 0.43552544713020325\n",
      "Epoch 8, 49984/50000: 0.43644949793815613\n",
      "Epoch 9, 49984/50000: 0.28856876492500305\n"
     ]
    }
   ],
   "source": [
    "for i in range(vgg16_total_epochs):\n",
    "    train(vgg16_model, device, train_loader, vgg16_optimizer, vgg16_loss, i, vgg16_collector)"
   ]
  },
  {
   "cell_type": "code",
   "execution_count": 15,
   "metadata": {},
   "outputs": [],
   "source": [
    "validate(vgg16_model, device, test_loader, vgg16_loss, vgg16_total_epochs, vgg16_collector)"
   ]
  },
  {
   "cell_type": "code",
   "execution_count": 16,
   "metadata": {},
   "outputs": [
    {
     "name": "stdout",
     "output_type": "stream",
     "text": [
      "transfer learning validation accuracy: 0.8426\n"
     ]
    }
   ],
   "source": [
    "print(\"transfer learning validation accuracy: {}\".format(vgg16_collector.eval_losses[0][2]))"
   ]
  },
  {
   "cell_type": "markdown",
   "metadata": {},
   "source": [
    "### Train VGG16 From Scratch on CIFAR10"
   ]
  },
  {
   "cell_type": "code",
   "execution_count": 11,
   "metadata": {},
   "outputs": [],
   "source": [
    "vgg16 = models.vgg16_bn(pretrained=False)\n",
    "vgg16.classifier[6] = nn.Linear(4096, label_size)\n",
    "vgg16 = vgg16.to(device)"
   ]
  },
  {
   "cell_type": "code",
   "execution_count": 12,
   "metadata": {},
   "outputs": [],
   "source": [
    "vgg16_learning_rate = 0.0001\n",
    "vgg16_total_epochs = 10\n",
    "vgg16_optimizer = optim.Adam(vgg16.parameters(), lr=vgg16_learning_rate)\n",
    "vgg16_loss = nn.CrossEntropyLoss()\n",
    "vgg16_collector = EpochLossCollector(default_batch_size, 1, 1)"
   ]
  },
  {
   "cell_type": "code",
   "execution_count": 13,
   "metadata": {},
   "outputs": [
    {
     "name": "stdout",
     "output_type": "stream",
     "text": [
      "Epoch 0, 49984/50000: 0.691571056842804\n",
      "Epoch 1, 49984/50000: 0.34367257356643677\n",
      "Epoch 2, 49984/50000: 0.7274443507194519\n",
      "Epoch 3, 49984/50000: 0.2615000605583191\n",
      "Epoch 4, 49984/50000: 0.2706305980682373\n",
      "Epoch 5, 49984/50000: 0.02183365263044834\n",
      "Epoch 6, 49984/50000: 0.07468290627002716\n",
      "Epoch 7, 49984/50000: 0.30984196066856384\n",
      "Epoch 8, 49984/50000: 0.5883130431175232\n",
      "Epoch 9, 49984/50000: 0.0030811706092208624\n"
     ]
    }
   ],
   "source": [
    "for i in range(vgg16_total_epochs):\n",
    "    train(vgg16, device, train_loader, vgg16_optimizer, vgg16_loss, i, vgg16_collector)"
   ]
  },
  {
   "cell_type": "code",
   "execution_count": 14,
   "metadata": {},
   "outputs": [],
   "source": [
    "validate(vgg16, device, test_loader, vgg16_loss, vgg16_total_epochs, vgg16_collector)"
   ]
  },
  {
   "cell_type": "code",
   "execution_count": 15,
   "metadata": {},
   "outputs": [
    {
     "data": {
      "text/plain": [
       "[(10, 0.01508800828102976, 0.8865)]"
      ]
     },
     "execution_count": 15,
     "metadata": {},
     "output_type": "execute_result"
    }
   ],
   "source": [
    "vgg16_collector.eval_losses"
   ]
  }
 ],
 "metadata": {
  "kernelspec": {
   "display_name": "Python 3",
   "language": "python",
   "name": "python3"
  },
  "language_info": {
   "codemirror_mode": {
    "name": "ipython",
    "version": 3
   },
   "file_extension": ".py",
   "mimetype": "text/x-python",
   "name": "python",
   "nbconvert_exporter": "python",
   "pygments_lexer": "ipython3",
   "version": "3.8.1"
  }
 },
 "nbformat": 4,
 "nbformat_minor": 4
}
