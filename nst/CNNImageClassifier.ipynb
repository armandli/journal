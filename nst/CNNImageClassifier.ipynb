{
 "cells": [
  {
   "cell_type": "code",
   "execution_count": 1,
   "metadata": {},
   "outputs": [],
   "source": [
    "import torch\n",
    "import torch.nn as nn\n",
    "import torch.nn.functional as F\n",
    "import torch.utils as utils\n",
    "import torch.optim as optim\n",
    "from torchvision import datasets\n",
    "from torchvision import transforms\n",
    "from PIL import Image"
   ]
  },
  {
   "cell_type": "markdown",
   "metadata": {},
   "source": [
    "### MNIST Data Exploration"
   ]
  },
  {
   "cell_type": "code",
   "execution_count": 2,
   "metadata": {},
   "outputs": [],
   "source": [
    "dataset = datasets.MNIST(root='../data', train=True, download=True)\n",
    "sampler = utils.data.RandomSampler(dataset)"
   ]
  },
  {
   "cell_type": "code",
   "execution_count": 3,
   "metadata": {},
   "outputs": [],
   "source": [
    "dataset[next(sampler.__iter__())][0].show()"
   ]
  },
  {
   "cell_type": "markdown",
   "metadata": {},
   "source": [
    "## Creating Training and Test Set"
   ]
  },
  {
   "cell_type": "code",
   "execution_count": 4,
   "metadata": {},
   "outputs": [],
   "source": [
    "use_cuda = torch.cuda.is_available()\n",
    "device = torch.device('cuda' if use_cuda else 'cpu')"
   ]
  },
  {
   "cell_type": "code",
   "execution_count": 5,
   "metadata": {},
   "outputs": [],
   "source": [
    "default_batch_size = 32\n",
    "loader_args = {'batch_size' : default_batch_size, 'shuffle' : True}\n",
    "if use_cuda:\n",
    "    loader_args.update({'pin_memory' : True, 'num_workers' : 1})"
   ]
  },
  {
   "cell_type": "code",
   "execution_count": 6,
   "metadata": {},
   "outputs": [],
   "source": [
    "trainset = datasets.MNIST(root='../data', train=True, download=True, transform=transforms.ToTensor())\n",
    "train_loader = utils.data.DataLoader(trainset, **loader_args)\n",
    "testset  = datasets.MNIST(root='../data', train=False, download=True, transform=transforms.ToTensor())\n",
    "test_loader = utils.data.DataLoader(testset, **loader_args)"
   ]
  },
  {
   "cell_type": "code",
   "execution_count": 7,
   "metadata": {},
   "outputs": [
    {
     "data": {
      "text/plain": [
       "torch.Size([1, 28, 28])"
      ]
     },
     "execution_count": 7,
     "metadata": {},
     "output_type": "execute_result"
    }
   ],
   "source": [
    "image_size = trainset[0][0].size()\n",
    "image_size"
   ]
  },
  {
   "cell_type": "code",
   "execution_count": 8,
   "metadata": {},
   "outputs": [],
   "source": [
    "label_size = 10"
   ]
  },
  {
   "cell_type": "markdown",
   "metadata": {},
   "source": [
    "### Convolution Model"
   ]
  },
  {
   "cell_type": "code",
   "execution_count": 9,
   "metadata": {},
   "outputs": [],
   "source": [
    "class MNISTClassifier(nn.Module):\n",
    "    def __init__(self, isize, osize):\n",
    "        super(MNISTClassifier, self).__init__()\n",
    "        fc1_isize = int((((isize - 2 - 2) / 2) ** 2) * 32)\n",
    "        self.conv1 = nn.Conv2d(1, 64, 3)\n",
    "        self.conv2 = nn.Conv2d(64, 32, 3)\n",
    "        self.pool = nn.MaxPool2d(2)\n",
    "        self.dropout1 = nn.Dropout(0.25)\n",
    "        self.dropout2 = nn.Dropout(0.5)\n",
    "        self.fc1 = nn.Linear(fc1_isize, 128)\n",
    "        self.fc2 = nn.Linear(128, osize)\n",
    "    \n",
    "    def forward(self, x):\n",
    "        x = self.conv1(x)\n",
    "        x = F.relu(x)\n",
    "        x = self.conv2(x)\n",
    "        x = F.relu(x)\n",
    "        x = self.pool(x)\n",
    "        x = self.dropout1(x)\n",
    "        x = torch.flatten(x, 1)\n",
    "        x = self.fc1(x)\n",
    "        x = self.dropout2(x)\n",
    "        x = self.fc2(x)\n",
    "        x = F.log_softmax(x, dim=1)\n",
    "        return x"
   ]
  },
  {
   "cell_type": "code",
   "execution_count": 10,
   "metadata": {},
   "outputs": [],
   "source": [
    "model_file = '../models/mnist_classifier.pt'\n",
    "model = MNISTClassifier(28, 10)"
   ]
  },
  {
   "cell_type": "code",
   "execution_count": null,
   "metadata": {},
   "outputs": [],
   "source": [
    "#load model if it already exists\n",
    "model.load(model_file)"
   ]
  },
  {
   "cell_type": "code",
   "execution_count": 11,
   "metadata": {},
   "outputs": [],
   "source": [
    "model = model.to(device)"
   ]
  },
  {
   "cell_type": "markdown",
   "metadata": {},
   "source": [
    "### Training"
   ]
  },
  {
   "cell_type": "code",
   "execution_count": 12,
   "metadata": {},
   "outputs": [],
   "source": [
    "from abc import ABC, abstractmethod\n",
    "\n",
    "class StatsCollector(ABC):\n",
    "    @abstractmethod\n",
    "    def train_gather(self, epoch, batch_idx, batch_size, dataset_size, loss):\n",
    "        pass\n",
    "    @abstractmethod\n",
    "    def eval_gather(self, train_epoch, loss, accuracy):\n",
    "        pass\n",
    "    @abstractmethod\n",
    "    def eval_pred_gather(self, train_epoch, predictions, targets):\n",
    "        pass\n",
    "    @abstractmethod\n",
    "    def train_reset(self):\n",
    "        pass\n",
    "    @abstractmethod\n",
    "    def eval_reset(self):\n",
    "        pass\n",
    "\n",
    "class FrequentLossCollector(StatsCollector):\n",
    "    def __init__(self, frequency, report_frequency = 0, eval_report_frequency = 0):\n",
    "        self.frequency = frequency\n",
    "        self.report_frequency = report_frequency\n",
    "        self.eval_report_frequency = eval_report_frequency\n",
    "        self.losses = []\n",
    "        self.eval_losses = []\n",
    "        self.eval_predictions_targets = []\n",
    "    def train_gather(self, epoch, batch_idx, batch_size, dataset_size, loss):\n",
    "        if (epoch * (dataset_size / batch_size) + batch_idx) % self.frequency == 0:\n",
    "            self.losses.append((epoch, batch_idx, batch_size, dataset_size, loss))\n",
    "        if report_frequency > 0 and (epoch * (dataset_size / batch_size) + batch_idx) % self.report_frequency == 0:\n",
    "            print(\"Epoch {}, {}/{}: {}\".format(epoch, batch_idx * batch_size, dataset_size, loss))\n",
    "    def eval_gather(self, train_epoch, loss, accuracy):\n",
    "        self.eval_losses.append((train_epoch, loss, accuracy))\n",
    "        if self.eval_report_frequency > 0 and train_epoch % self.eval_report_frequency == 0:\n",
    "            print(\"Epoch {}: loss {} accuracy {}\".format(train_epoch, loss, accuracy))\n",
    "    def eval_pred_gather(self, train_epoch, predictions, targets):\n",
    "        self.eval_predictions_targets.append((train_epoch, predictions, targets))\n",
    "    def train_reset(self):\n",
    "        self.losses = []\n",
    "    def eval_reset(self):\n",
    "        self.eval_losses = []\n",
    "        self.eval_predictions_targets = []\n",
    "\n",
    "class EpochLossCollector(StatsCollector):\n",
    "    def __init__(self, frequency, report_frequency = 0, eval_report_frequency = 0):\n",
    "        self.frequency = frequency\n",
    "        self.report_frequency = report_frequency\n",
    "        self.eval_report_frequency = eval_report_frequency\n",
    "        self.losses = []\n",
    "        self.eval_losses = []\n",
    "        self.eval_predictions_targets = []\n",
    "    def train_gather(self, epoch, batch_idx, batch_size, dataset_size, loss):\n",
    "        if epoch % self.frequency == 0 and (batch_idx + 1) * batch_size == dataset_size:\n",
    "            self.losses.append((epoch, loss))\n",
    "        if self.report_frequency > 0 and epoch % self.report_frequency == 0 and (batch_idx + 1) * batch_size == dataset_size:\n",
    "            print(\"Epoch {}, {}/{}: {}\".format(epoch, batch_idx * batch_size, dataset_size, loss))\n",
    "    def eval_gather(self, train_epoch, loss, accuracy):\n",
    "        self.eval_losses.append((train_epoch, loss, accuracy))\n",
    "        if self.eval_report_frequency > 0 and train_epoch % self.eval_report_frequency == 0:\n",
    "            print(\"Epoch {}: loss {} accuracy {}\".format(train_epoch, loss, accuracy))\n",
    "    def eval_pred_gather(self, train_epoch, predictions, targets):\n",
    "        self.eval_predictions_targets.append((train_epoch, predictions, targets))\n",
    "    def train_reset(self):\n",
    "        self.losses = []\n",
    "    def eval_reset(self):\n",
    "        self.eval_losses = []\n",
    "        self.eval_predictions_targets = []"
   ]
  },
  {
   "cell_type": "code",
   "execution_count": 13,
   "metadata": {},
   "outputs": [],
   "source": [
    "def train(model, device, loader, optimizer, loss, epoch, collector):\n",
    "    model.train()\n",
    "    for batch_idx, (data, target) in enumerate(loader):\n",
    "        data, target = data.to(device), target.to(device)\n",
    "        optimizer.zero_grad()\n",
    "        output = model(data)\n",
    "        l = loss(output, target)\n",
    "        l.backward()\n",
    "        optimizer.step()\n",
    "        collector.train_gather(epoch, batch_idx, len(data), len(loader.dataset), l.item())"
   ]
  },
  {
   "cell_type": "code",
   "execution_count": 14,
   "metadata": {},
   "outputs": [],
   "source": [
    "def validate(model, device, loader, loss, train_epoch, collector):\n",
    "    model.eval()\n",
    "    total_loss = 0.\n",
    "    total_corrects = 0.\n",
    "    with torch.no_grad():\n",
    "        for data, target in loader:\n",
    "            data, target = data.to(device), target.to(device)\n",
    "            output = model(data)\n",
    "            total_loss += loss(output, target).item()\n",
    "            pred = output.argmax(dim=1, keepdim=True)\n",
    "            collector.eval_pred_gather(train_epoch, pred, target)\n",
    "            corrects = pred.eq(target.view_as(pred)).sum().item()\n",
    "            total_corrects += corrects\n",
    "    total_loss /= len(loader.dataset)\n",
    "    accuracy = total_corrects / len(loader.dataset)\n",
    "    collector.eval_gather(train_epoch, total_loss, accuracy)"
   ]
  },
  {
   "cell_type": "code",
   "execution_count": 15,
   "metadata": {},
   "outputs": [],
   "source": [
    "def train_validate(model, device, train_loader, test_loader, optimizer, loss, collector, total_epoch):\n",
    "    for epoch in range(total_epoch):\n",
    "        train(model, device, train_loader, optimizer, loss, epoch, collector)\n",
    "        validate(model, device, test_loader, loss, epoch, collector)"
   ]
  },
  {
   "cell_type": "code",
   "execution_count": 16,
   "metadata": {},
   "outputs": [],
   "source": [
    "learning_rate = 0.0001\n",
    "total_epochs =5\n",
    "optimizer = optim.Adam(model.parameters(), lr=learning_rate)\n",
    "loss = nn.NLLLoss()\n",
    "collector = EpochLossCollector(1, 1)"
   ]
  },
  {
   "cell_type": "code",
   "execution_count": 17,
   "metadata": {},
   "outputs": [
    {
     "name": "stdout",
     "output_type": "stream",
     "text": [
      "Epoch 0, 59968/60000: 0.16705448925495148\n",
      "Epoch 1, 59968/60000: 0.26304492354393005\n",
      "Epoch 2, 59968/60000: 0.008326868526637554\n",
      "Epoch 3, 59968/60000: 0.04203057289123535\n",
      "Epoch 4, 59968/60000: 0.04412397742271423\n"
     ]
    }
   ],
   "source": [
    "train_validate(model, device, train_loader, test_loader, optimizer, loss, collector, total_epochs)"
   ]
  },
  {
   "cell_type": "markdown",
   "metadata": {},
   "source": [
    "### Losses v.r.t. epoch plots"
   ]
  },
  {
   "cell_type": "code",
   "execution_count": 18,
   "metadata": {},
   "outputs": [],
   "source": [
    "import numpy as np\n",
    "import matplotlib.pyplot as plt"
   ]
  },
  {
   "cell_type": "code",
   "execution_count": 19,
   "metadata": {},
   "outputs": [],
   "source": [
    "train_loss   = np.array([loss for (epoch, loss) in collector.losses])\n",
    "train_epochs = np.array([epoch for (epoch, loss) in collector.losses])"
   ]
  },
  {
   "cell_type": "code",
   "execution_count": 20,
   "metadata": {},
   "outputs": [
    {
     "data": {
      "image/png": "[encoded data removed]",
      "text/plain": [
       "<Figure size 432x288 with 1 Axes>"
      ]
     },
     "metadata": {
      "needs_background": "light"
     },
     "output_type": "display_data"
    }
   ],
   "source": [
    "plt.plot(train_epochs, train_loss)\n",
    "plt.xlabel('Epoch')\n",
    "plt.ylabel('Training Loss')\n",
    "plt.title('Training loss w.r.t. epoch')\n",
    "plt.show()"
   ]
  },
  {
   "cell_type": "code",
   "execution_count": 21,
   "metadata": {},
   "outputs": [],
   "source": [
    "test_loss  = np.array([loss for (epoch, loss, accuracy) in collector.eval_losses])\n",
    "test_epoch = np.array([epoch for (epoch, loss, accuracy) in collector.eval_losses])\n",
    "accuracy   = np.array([accuracy for (epoch, loss, accuracy) in collector.eval_losses])"
   ]
  },
  {
   "cell_type": "code",
   "execution_count": 22,
   "metadata": {},
   "outputs": [
    {
     "data": {
      "image/png": "[encoded data removed]",
      "text/plain": [
       "<Figure size 432x288 with 1 Axes>"
      ]
     },
     "metadata": {
      "needs_background": "light"
     },
     "output_type": "display_data"
    }
   ],
   "source": [
    "plt.plot(test_epoch, test_loss)\n",
    "plt.xlabel('Trainng Epoch')\n",
    "plt.ylabel('Validation Loss')\n",
    "plt.title('Validation Loss w.r.t. training epoch')\n",
    "plt.show()"
   ]
  },
  {
   "cell_type": "code",
   "execution_count": 23,
   "metadata": {},
   "outputs": [
    {
     "data": {
      "image/png": "[encoded data removed]",
      "text/plain": [
       "<Figure size 432x288 with 1 Axes>"
      ]
     },
     "metadata": {
      "needs_background": "light"
     },
     "output_type": "display_data"
    }
   ],
   "source": [
    "plt.plot(test_epoch, accuracy)\n",
    "plt.xlabel('Training Epoch')\n",
    "plt.ylabel('Validation Accuracy')\n",
    "plt.title('Validation Accuracy w.r.t. training epoch')\n",
    "plt.show()"
   ]
  },
  {
   "cell_type": "markdown",
   "metadata": {},
   "source": [
    "### Test"
   ]
  },
  {
   "cell_type": "code",
   "execution_count": 24,
   "metadata": {},
   "outputs": [],
   "source": [
    "import random"
   ]
  },
  {
   "cell_type": "code",
   "execution_count": 25,
   "metadata": {},
   "outputs": [],
   "source": [
    "test_idx = random.randint(0, len(testset) - 1)"
   ]
  },
  {
   "cell_type": "code",
   "execution_count": 26,
   "metadata": {},
   "outputs": [
    {
     "data": {
      "text/plain": [
       "tensor([1], device='cuda:0')"
      ]
     },
     "execution_count": 26,
     "metadata": {},
     "output_type": "execute_result"
    }
   ],
   "source": [
    "test_sample = testset[test_idx][0]\n",
    "test_sample = test_sample.unsqueeze_(0)\n",
    "test_sample = test_sample.to(device)\n",
    "test_prediction = model(test_sample)\n",
    "test_prediction.argmax(dim=1)"
   ]
  },
  {
   "cell_type": "code",
   "execution_count": 27,
   "metadata": {},
   "outputs": [
    {
     "data": {
      "text/plain": [
       "1"
      ]
     },
     "execution_count": 27,
     "metadata": {},
     "output_type": "execute_result"
    }
   ],
   "source": [
    "testset[test_idx][1]"
   ]
  },
  {
   "cell_type": "markdown",
   "metadata": {},
   "source": [
    "### Saving Model"
   ]
  },
  {
   "cell_type": "code",
   "execution_count": 28,
   "metadata": {},
   "outputs": [],
   "source": [
    "torch.save(model, model_file)"
   ]
  }
 ],
 "metadata": {
  "kernelspec": {
   "display_name": "Python 3",
   "language": "python",
   "name": "python3"
  },
  "language_info": {
   "codemirror_mode": {
    "name": "ipython",
    "version": 3
   },
   "file_extension": ".py",
   "mimetype": "text/x-python",
   "name": "python",
   "nbconvert_exporter": "python",
   "pygments_lexer": "ipython3",
   "version": "3.8.1"
  }
 },
 "nbformat": 4,
 "nbformat_minor": 4
}
