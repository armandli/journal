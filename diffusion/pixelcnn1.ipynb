{
 "cells": [
  {
   "cell_type": "code",
   "execution_count": 1,
   "metadata": {},
   "outputs": [],
   "source": [
    "from tqdm import tqdm\n",
    "import math\n",
    "import numpy as np\n",
    "import torch\n",
    "from torch import utils\n",
    "from torch import nn\n",
    "from torch import distributions\n",
    "from torch import optim\n",
    "import torch.nn.functional as F\n",
    "import torchvision\n",
    "from torchvision import datasets\n",
    "from torchvision import transforms\n",
    "from torchvision.transforms import ToPILImage\n",
    "\n",
    "import lightning as pl\n",
    "\n",
    "import matplotlib.pyplot as plt"
   ]
  },
  {
   "cell_type": "code",
   "execution_count": 2,
   "metadata": {},
   "outputs": [],
   "source": [
    "data_dir = '/Users/armandli/data/'"
   ]
  },
  {
   "cell_type": "code",
   "execution_count": 3,
   "metadata": {},
   "outputs": [],
   "source": [
    "checkpoint_dir = '/Users/armandli/journal/models/'"
   ]
  },
  {
   "cell_type": "code",
   "execution_count": 4,
   "metadata": {},
   "outputs": [],
   "source": [
    "use_cuda = torch.cuda.is_available()\n",
    "use_mps = torch.backends.mps.is_built()\n",
    "if use_cuda:\n",
    "    device = torch.device('cuda')\n",
    "elif use_mps:\n",
    "    device = torch.device('cpu')\n",
    "else:\n",
    "    device = torch.device('cpu')\n",
    "cpu = torch.device('cpu')"
   ]
  },
  {
   "cell_type": "code",
   "execution_count": 5,
   "metadata": {},
   "outputs": [],
   "source": [
    "default_batch_size = 256\n",
    "loader_args = {'batch_size' : default_batch_size, 'shuffle' : True}\n",
    "score_args = {'batch_size' : default_batch_size, 'shuffle' : False}\n",
    "if use_cuda:\n",
    "    loader_args.update({'pin_memory' : True})\n",
    "    score_args.update({'pin_memory' : True})"
   ]
  },
  {
   "cell_type": "markdown",
   "metadata": {},
   "source": [
    "Model"
   ]
  },
  {
   "cell_type": "code",
   "execution_count": 6,
   "metadata": {},
   "outputs": [],
   "source": [
    "class MaskedConv2d(nn.Module):\n",
    "    def __init__(self, in_c, out_c, mask, **kwargs):\n",
    "        super(MaskedConv2d, self).__init__()\n",
    "        kernel_size = (mask.shape[0], mask.shape[1])\n",
    "        dilation = 1 if 'dilation' not in kwargs else kwargs['dilation']\n",
    "        padding = tuple(dilation*(kernel_size[i]-1)//2 for i in range(2))\n",
    "        self.conv = nn.Conv2d(in_c, out_c, kernel_size, padding=padding, **kwargs)\n",
    "        # we don't take gradient on mask, but we also need to save it\n",
    "        self.register_buffer('mask', mask[None, None]) #mask[None, None] expand mask shape by 2 dimensions\n",
    "    \n",
    "    def forward(self, x):\n",
    "        self.conv.weight.data *= self.mask\n",
    "        return self.conv(x)"
   ]
  },
  {
   "cell_type": "code",
   "execution_count": 7,
   "metadata": {},
   "outputs": [],
   "source": [
    "class VSMConv2d(MaskedConv2d):\n",
    "    def __init__(self, in_c, out_c, kernel_size=3, mask_center=False, **kwargs):\n",
    "        mask = torch.ones(kernel_size, kernel_size)\n",
    "        mask[kernel_size//2+1:,:] = 0.\n",
    "        if mask_center:\n",
    "            mask[kernel_size//2,:] = 0.\n",
    "        super(VSMConv2d, self).__init__(in_c, out_c, mask, **kwargs)"
   ]
  },
  {
   "cell_type": "code",
   "execution_count": 8,
   "metadata": {},
   "outputs": [],
   "source": [
    "class HSMConv2d(MaskedConv2d):\n",
    "    def __init__(self, in_c, out_c, kernel_size=3, mask_center=False, **kwargs):\n",
    "        mask = torch.ones(kernel_size, kernel_size)\n",
    "        mask[:kernel_size//2,:] = 0.\n",
    "        mask[kernel_size//2+1:,:] = 0.\n",
    "        mask[:,kernel_size//2+1:] = 0.\n",
    "        if mask_center:\n",
    "            mask[kernel_size//2,kernel_size//2] = 0.\n",
    "        super(HSMConv2d, self).__init__(in_c, out_c, mask, **kwargs)"
   ]
  },
  {
   "cell_type": "code",
   "execution_count": 9,
   "metadata": {},
   "outputs": [],
   "source": [
    "class GatedMaskConv2d(nn.Module):\n",
    "    def __init__(self, in_c, **kwargs):\n",
    "        super(GatedMaskConv2d, self).__init__()\n",
    "        self.conv_v = VSMConv2d(in_c, in_c*2, **kwargs)\n",
    "        self.conv_h = HSMConv2d(in_c, in_c*2, **kwargs)\n",
    "        self.conv_v2h = nn.Conv2d(in_c*2, in_c*2, kernel_size=1, padding=0)\n",
    "        self.conv_h_1x1 = nn.Conv2d(in_c, in_c, kernel_size=1, padding=0)\n",
    "\n",
    "    def forward(self, v_stack, h_stack):\n",
    "        v_stack_feat = self.conv_v(v_stack)\n",
    "        v_val, v_gate = v_stack_feat.chunk(2, dim=1)\n",
    "        v_stack_out = torch.tanh(v_val) * torch.sigmoid(v_gate)\n",
    "\n",
    "        h_stack_feat = self.conv_h(h_stack)\n",
    "        h_stack_feat = h_stack_feat + self.conv_v2h(v_stack_feat)\n",
    "        h_val, h_gate = h_stack_feat.chunk(2, dim=1)\n",
    "        h_stack_out = torch.tanh(h_val) * torch.sigmoid(h_gate)\n",
    "        h_stack_out = self.conv_h_1x1(h_stack_out)\n",
    "        h_stack_out = h_stack_out + h_stack\n",
    "\n",
    "        return (v_stack_out, h_stack_out)"
   ]
  },
  {
   "cell_type": "code",
   "execution_count": 21,
   "metadata": {},
   "outputs": [],
   "source": [
    "class PixelCNN(nn.Module):\n",
    "    def __init__(self, in_c, hidden_c):\n",
    "        super(PixelCNN, self).__init__()\n",
    "        self.conv_vstack = HSMConv2d(in_c, hidden_c, mask_center=True)\n",
    "        self.conv_hstack = HSMConv2d(in_c, hidden_c, mask_center=True)\n",
    "        self.conv_layers = nn.ModuleList([\n",
    "            GatedMaskConv2d(hidden_c, mask_center=True),\n",
    "            GatedMaskConv2d(hidden_c, mask_center=False),\n",
    "            GatedMaskConv2d(hidden_c, mask_center=False, dilation=2),\n",
    "            GatedMaskConv2d(hidden_c, mask_center=False),\n",
    "            GatedMaskConv2d(hidden_c, mask_center=False, dilation=4),\n",
    "            GatedMaskConv2d(hidden_c, mask_center=False),\n",
    "            GatedMaskConv2d(hidden_c, mask_center=False, dilation=2),\n",
    "            GatedMaskConv2d(hidden_c, mask_center=False),\n",
    "        ])\n",
    "        self.conv_out = nn.Conv2d(hidden_c, in_c*256, kernel_size=1, padding=0)\n",
    "\n",
    "    def forward(self, x):\n",
    "        # scale input x to -1 to 1\n",
    "        x = (x.float() / 255.0) * 2 - 1\n",
    "        v_stack = self.conv_vstack(x)\n",
    "        h_stack = self.conv_hstack(x)\n",
    "        for layer in self.conv_layers:\n",
    "            v_stack, h_stack = layer(v_stack, h_stack)\n",
    "        out = self.conv_out(F.elu(h_stack))\n",
    "        # reshape into (N, Class, Channel, Height, Width)\n",
    "        out = out.reshape(out.shape[0], 256, out.shape[1]//256, out.shape[2], out.shape[3])\n",
    "        return out\n",
    "\n",
    "    def sample(self, img_shape, device):\n",
    "        img = torch.zeros(img_shape, dtype=torch.long).to(device) - 1\n",
    "        for h in range(img_shape[2]):\n",
    "            for w in range(img_shape[3]):\n",
    "                for c in range(img_shape[1]):\n",
    "                    pred = self.forward(img[:,:,:h+1,:])\n",
    "                    probs = F.softmax(pred[:,:,c,h,w], dim=-1)\n",
    "                    img[:,c,h,w] = torch.multinomial(probs, num_samples=1).squeeze(dim=-1)\n",
    "        return img"
   ]
  },
  {
   "cell_type": "markdown",
   "metadata": {},
   "source": [
    "testing receptive field"
   ]
  },
  {
   "cell_type": "code",
   "execution_count": 12,
   "metadata": {},
   "outputs": [],
   "source": [
    "def show_center_recep_field(img, out):\n",
    "    # Determine gradients\n",
    "    loss = out[0,:,img.shape[2]//2,img.shape[3]//2].sum() # L1 loss for simplicity\n",
    "    loss.backward(retain_graph=True) # Retain graph as we want to stack multiple layers and show the receptive field of all of them\n",
    "    img_grads = img.grad.abs()\n",
    "    img.grad.fill_(0) # Reset grads\n",
    "\n",
    "    # Plot receptive field\n",
    "    img = img_grads.squeeze().cpu().numpy()\n",
    "    fig, ax = plt.subplots(1,2)\n",
    "    pos = ax[0].imshow(img)\n",
    "    ax[1].imshow(img>0)\n",
    "    # Mark the center pixel in red if it doesn't have any gradients (should be the case for standard autoregressive models)\n",
    "    show_center = (img[img.shape[0]//2,img.shape[1]//2] == 0)\n",
    "    if show_center:\n",
    "        center_pixel = np.zeros(img.shape + (4,))\n",
    "        center_pixel[center_pixel.shape[0]//2,center_pixel.shape[1]//2,:] = np.array([1.0, 0.0, 0.0, 1.0])\n",
    "    for i in range(2):\n",
    "        ax[i].axis('off')\n",
    "        if show_center:\n",
    "            ax[i].imshow(center_pixel)\n",
    "    ax[0].set_title(\"Weighted receptive field\")\n",
    "    ax[1].set_title(\"Binary receptive field\")\n",
    "    plt.show()\n",
    "    plt.close()"
   ]
  },
  {
   "cell_type": "code",
   "execution_count": 13,
   "metadata": {},
   "outputs": [
    {
     "data": {
      "image/png": "[encoded data removed]",
      "text/plain": [
       "<Figure size 640x480 with 2 Axes>"
      ]
     },
     "metadata": {},
     "output_type": "display_data"
    }
   ],
   "source": [
    "inp_img = torch.zeros(1, 1, 11, 11)\n",
    "inp_img.requires_grad_()\n",
    "show_center_recep_field(inp_img, inp_img)"
   ]
  },
  {
   "cell_type": "code",
   "execution_count": 14,
   "metadata": {},
   "outputs": [
    {
     "data": {
      "image/png": "[encoded data removed]",
      "text/plain": [
       "<Figure size 640x480 with 2 Axes>"
      ]
     },
     "metadata": {},
     "output_type": "display_data"
    }
   ],
   "source": [
    "horiz_conv = HSMConv2d(1, 1, kernel_size=3, mask_center=True)\n",
    "horiz_conv.conv.weight.data.fill_(1)\n",
    "horiz_conv.conv.bias.data.fill_(0)\n",
    "horiz_img = horiz_conv(inp_img)\n",
    "show_center_recep_field(inp_img, horiz_img)"
   ]
  },
  {
   "cell_type": "code",
   "execution_count": 15,
   "metadata": {},
   "outputs": [
    {
     "data": {
      "image/png": "[encoded data removed]",
      "text/plain": [
       "<Figure size 640x480 with 2 Axes>"
      ]
     },
     "metadata": {},
     "output_type": "display_data"
    }
   ],
   "source": [
    "vert_conv = VSMConv2d(1, 1, kernel_size=3, mask_center=True)\n",
    "vert_conv.conv.weight.data.fill_(1)\n",
    "vert_conv.conv.bias.data.fill_(0)\n",
    "vert_img = vert_conv(inp_img)\n",
    "show_center_recep_field(inp_img, vert_img)"
   ]
  },
  {
   "cell_type": "code",
   "execution_count": 16,
   "metadata": {},
   "outputs": [
    {
     "data": {
      "image/png": "[encoded data removed]",
      "text/plain": [
       "<Figure size 640x480 with 2 Axes>"
      ]
     },
     "metadata": {},
     "output_type": "display_data"
    }
   ],
   "source": [
    "horiz_img = horiz_img + vert_img\n",
    "show_center_recep_field(inp_img, horiz_img)"
   ]
  },
  {
   "cell_type": "code",
   "execution_count": 17,
   "metadata": {},
   "outputs": [
    {
     "name": "stdout",
     "output_type": "stream",
     "text": [
      "Layer 2\n"
     ]
    },
    {
     "data": {
      "image/png": "[encoded data removed]",
      "text/plain": [
       "<Figure size 640x480 with 2 Axes>"
      ]
     },
     "metadata": {},
     "output_type": "display_data"
    },
    {
     "name": "stdout",
     "output_type": "stream",
     "text": [
      "Layer 3\n"
     ]
    },
    {
     "data": {
      "image/png": "[encoded data removed]",
      "text/plain": [
       "<Figure size 640x480 with 2 Axes>"
      ]
     },
     "metadata": {},
     "output_type": "display_data"
    },
    {
     "name": "stdout",
     "output_type": "stream",
     "text": [
      "Layer 4\n"
     ]
    },
    {
     "data": {
      "image/png": "[encoded data removed]",
      "text/plain": [
       "<Figure size 640x480 with 2 Axes>"
      ]
     },
     "metadata": {},
     "output_type": "display_data"
    },
    {
     "name": "stdout",
     "output_type": "stream",
     "text": [
      "Layer 5\n"
     ]
    },
    {
     "data": {
      "image/png": "[encoded data removed]",
      "text/plain": [
       "<Figure size 640x480 with 2 Axes>"
      ]
     },
     "metadata": {},
     "output_type": "display_data"
    }
   ],
   "source": [
    "# Initialize convolutions with equal weight to all input pixels\n",
    "horiz_conv = HSMConv2d(1, 1, kernel_size=3, mask_center=False)\n",
    "horiz_conv.conv.weight.data.fill_(1)\n",
    "horiz_conv.conv.bias.data.fill_(0)\n",
    "vert_conv = VSMConv2d(1, 1, kernel_size=3,mask_center=False)\n",
    "vert_conv.conv.weight.data.fill_(1)\n",
    "vert_conv.conv.bias.data.fill_(0)\n",
    "\n",
    "# We reuse our convolutions for the 4 layers here. Note that in a standard network,\n",
    "# we don't do that, and instead learn 4 separate convolution. As this cell is only for\n",
    "# visualization purposes, we reuse the convolutions for all layers.\n",
    "for l_idx in range(4):\n",
    "    vert_img = vert_conv(vert_img)\n",
    "    horiz_img = horiz_conv(horiz_img) + vert_img\n",
    "    print(f\"Layer {l_idx+2}\")\n",
    "    show_center_recep_field(inp_img, horiz_img)"
   ]
  },
  {
   "cell_type": "code",
   "execution_count": 18,
   "metadata": {},
   "outputs": [
    {
     "data": {
      "image/png": "[encoded data removed]",
      "text/plain": [
       "<Figure size 640x480 with 2 Axes>"
      ]
     },
     "metadata": {},
     "output_type": "display_data"
    }
   ],
   "source": [
    "show_center_recep_field(inp_img, vert_img)"
   ]
  },
  {
   "cell_type": "code",
   "execution_count": 19,
   "metadata": {},
   "outputs": [],
   "source": [
    "del inp_img, horiz_conv, vert_conv"
   ]
  },
  {
   "cell_type": "code",
   "execution_count": 124,
   "metadata": {},
   "outputs": [
    {
     "data": {
      "image/png": "[encoded data removed]",
      "text/plain": [
       "<Figure size 640x480 with 2 Axes>"
      ]
     },
     "metadata": {},
     "output_type": "display_data"
    }
   ],
   "source": [
    "test_model = PixelCNN(1, 64)\n",
    "inp = torch.zeros(1,1,28,28)\n",
    "inp.requires_grad_()\n",
    "out = test_model(inp)\n",
    "show_center_recep_field(inp, out.squeeze(dim=2))\n",
    "del inp, out, test_model"
   ]
  },
  {
   "cell_type": "markdown",
   "metadata": {},
   "source": [
    "data"
   ]
  },
  {
   "cell_type": "code",
   "execution_count": 11,
   "metadata": {},
   "outputs": [],
   "source": [
    "# Convert images from 0-1 to 0-255 (integers). We use the long datatype as we will use the images as labels as well\n",
    "def discretize(sample):\n",
    "    return (sample * 255).to(torch.long)"
   ]
  },
  {
   "cell_type": "code",
   "execution_count": 12,
   "metadata": {},
   "outputs": [],
   "source": [
    "transform = transforms.Compose([transforms.ToTensor(), discretize])"
   ]
  },
  {
   "cell_type": "code",
   "execution_count": 13,
   "metadata": {},
   "outputs": [],
   "source": [
    "trainset = datasets.MNIST(root=data_dir, train=True, transform=transform, download=True)\n",
    "evalset  = datasets.MNIST(root=data_dir, train=False, transform=transform, download=True)"
   ]
  },
  {
   "cell_type": "code",
   "execution_count": null,
   "metadata": {},
   "outputs": [],
   "source": [
    "trainset = datasets.CIFAR10(root=data_dir, train=True, transform=transform, download=True)\n",
    "evalset = datasets.CIFAR10(root=data_dir, train=True, transform=transform, download=True)"
   ]
  },
  {
   "cell_type": "code",
   "execution_count": null,
   "metadata": {},
   "outputs": [],
   "source": [
    "trainset = datasets.CIFAR100(root=data_dir, train=True, transform=transform, download=True)\n",
    "evalset = datasets.CIFAR100(root=data_dir, train=False, transform=transform, download=True)"
   ]
  },
  {
   "cell_type": "code",
   "execution_count": 14,
   "metadata": {},
   "outputs": [
    {
     "data": {
      "text/plain": [
       "(60000, 10000)"
      ]
     },
     "execution_count": 14,
     "metadata": {},
     "output_type": "execute_result"
    }
   ],
   "source": [
    "len(trainset), len(evalset)"
   ]
  },
  {
   "cell_type": "code",
   "execution_count": 15,
   "metadata": {},
   "outputs": [],
   "source": [
    "train_loader = utils.data.DataLoader(dataset=trainset, **loader_args)\n",
    "eval_loader = utils.data.DataLoader(dataset=evalset, **score_args)"
   ]
  },
  {
   "cell_type": "markdown",
   "metadata": {},
   "source": [
    "training"
   ]
  },
  {
   "cell_type": "code",
   "execution_count": 15,
   "metadata": {},
   "outputs": [],
   "source": [
    "class PixelCNN(pl.LightningModule):\n",
    "\n",
    "    def __init__(self, c_in, c_hidden):\n",
    "        super().__init__()\n",
    "        self.save_hyperparameters()\n",
    "\n",
    "        # Initial convolutions skipping the center pixel\n",
    "        self.conv_vstack = VSMConv2d(c_in, c_hidden, mask_center=True)\n",
    "        self.conv_hstack = HSMConv2d(c_in, c_hidden, mask_center=True)\n",
    "        # Convolution block of PixelCNN. We use dilation instead of downscaling\n",
    "        self.conv_layers = nn.ModuleList([\n",
    "            GatedMaskConv2d(c_hidden),\n",
    "            GatedMaskConv2d(c_hidden, dilation=2),\n",
    "            GatedMaskConv2d(c_hidden),\n",
    "            GatedMaskConv2d(c_hidden, dilation=4),\n",
    "            GatedMaskConv2d(c_hidden),\n",
    "            GatedMaskConv2d(c_hidden, dilation=2),\n",
    "            GatedMaskConv2d(c_hidden)\n",
    "        ])\n",
    "        # Output classification convolution (1x1)\n",
    "        self.conv_out = nn.Conv2d(c_hidden, c_in * 256, kernel_size=1, padding=0)\n",
    "\n",
    "        self.example_input_array = trainset[0][0][None]\n",
    "\n",
    "    def forward(self, x):\n",
    "        \"\"\"\n",
    "        Forward image through model and return logits for each pixel.\n",
    "        Inputs:\n",
    "            x - Image tensor with integer values between 0 and 255.\n",
    "        \"\"\"\n",
    "        # Scale input from 0 to 255 back to -1 to 1\n",
    "        x = (x.float() / 255.0) * 2 - 1\n",
    "\n",
    "        # Initial convolutions\n",
    "        v_stack = self.conv_vstack(x)\n",
    "        h_stack = self.conv_hstack(x)\n",
    "        # Gated Convolutions\n",
    "        for layer in self.conv_layers:\n",
    "            v_stack, h_stack = layer(v_stack, h_stack)\n",
    "        # 1x1 classification convolution\n",
    "        # Apply ELU before 1x1 convolution for non-linearity on residual connection\n",
    "        out = self.conv_out(F.elu(h_stack))\n",
    "\n",
    "        # Output dimensions: [Batch, Classes, Channels, Height, Width]\n",
    "        out = out.reshape(out.shape[0], 256, out.shape[1]//256, out.shape[2], out.shape[3])\n",
    "        return out\n",
    "\n",
    "    def calc_likelihood(self, x):\n",
    "        # Forward pass with bpd likelihood calculation\n",
    "        pred = self.forward(x)\n",
    "        nll = F.cross_entropy(pred, x, reduction='none')\n",
    "        bpd = nll.mean(dim=[1,2,3]) * np.log2(np.exp(1))\n",
    "        return bpd.mean()\n",
    "\n",
    "    @torch.no_grad()\n",
    "    def sample(self, img_shape, img=None):\n",
    "        \"\"\"\n",
    "        Sampling function for the autoregressive model.\n",
    "        Inputs:\n",
    "            img_shape - Shape of the image to generate (B,C,H,W)\n",
    "            img (optional) - If given, this tensor will be used as\n",
    "                             a starting image. The pixels to fill\n",
    "                             should be -1 in the input tensor.\n",
    "        \"\"\"\n",
    "        # Create empty image\n",
    "        if img is None:\n",
    "            img = torch.zeros(img_shape, dtype=torch.long).to(device) - 1\n",
    "        # Generation loop\n",
    "        for h in tqdm(range(img_shape[2]), leave=False):\n",
    "            for w in range(img_shape[3]):\n",
    "                for c in range(img_shape[1]):\n",
    "                    # Skip if not to be filled (-1)\n",
    "                    if (img[:,c,h,w] != -1).all().item():\n",
    "                        continue\n",
    "                    # For efficiency, we only have to input the upper part of the image\n",
    "                    # as all other parts will be skipped by the masked convolutions anyways\n",
    "                    pred = self.forward(img[:,:,:h+1,:])\n",
    "                    probs = F.softmax(pred[:,:,c,h,w], dim=-1)\n",
    "                    img[:,c,h,w] = torch.multinomial(probs, num_samples=1).squeeze(dim=-1)\n",
    "        return img\n",
    "\n",
    "    def configure_optimizers(self):\n",
    "        optimizer = optim.Adam(self.parameters(), lr=1e-3)\n",
    "        scheduler = optim.lr_scheduler.StepLR(optimizer, 1, gamma=0.99)\n",
    "        return [optimizer], [scheduler]\n",
    "\n",
    "    def training_step(self, batch, batch_idx):\n",
    "        loss = self.calc_likelihood(batch[0])\n",
    "        self.log('train_bpd', loss)\n",
    "        return loss\n",
    "\n",
    "    def validation_step(self, batch, batch_idx):\n",
    "        loss = self.calc_likelihood(batch[0])\n",
    "        self.log('val_bpd', loss)\n",
    "\n",
    "    def test_step(self, batch, batch_idx):\n",
    "        loss = self.calc_likelihood(batch[0])\n",
    "        self.log('test_bpd', loss)"
   ]
  },
  {
   "cell_type": "code",
   "execution_count": 17,
   "metadata": {},
   "outputs": [],
   "source": [
    "def train_model(**kwargs):\n",
    "    # Create a PyTorch Lightning trainer with the generation callback\n",
    "    trainer = pl.Trainer(default_root_dir=checkpoint_dir + 'PixelCNN',\n",
    "                         accelerator=\"gpu\" if str(device).startswith(\"cuda\") else \"cpu\",\n",
    "                         devices=1,\n",
    "                         max_epochs=150)\n",
    "    model = PixelCNN(**kwargs)\n",
    "    trainer.fit(model, train_loader, eval_loader)\n",
    "    model = model.to(device)\n",
    "    # Test best model on validation and test set\n",
    "    val_result = trainer.test(model, eval_loader, verbose=False)\n",
    "    result = {\"eval\": val_result}\n",
    "    return model, result"
   ]
  },
  {
   "cell_type": "code",
   "execution_count": 18,
   "metadata": {},
   "outputs": [
    {
     "name": "stderr",
     "output_type": "stream",
     "text": [
      "GPU available: True (mps), used: False\n",
      "TPU available: False, using: 0 TPU cores\n",
      "IPU available: False, using: 0 IPUs\n",
      "HPU available: False, using: 0 HPUs\n",
      "/Users/armandli/journal/env/lib/python3.11/site-packages/lightning/pytorch/trainer/setup.py:187: GPU available but not used. You can set it by doing `Trainer(accelerator='gpu')`.\n",
      "/Users/armandli/journal/env/lib/python3.11/site-packages/lightning/pytorch/trainer/connectors/logger_connector/logger_connector.py:67: Starting from v1.9.0, `tensorboardX` has been removed as a dependency of the `lightning.pytorch` package, due to potential conflicts with other packages in the ML ecosystem. For this reason, `logger=True` will use `CSVLogger` as the default logger, unless the `tensorboard` or `tensorboardX` packages are found. Please `pip install lightning[extra]` or one of them to enable TensorBoard support by default\n",
      "\n",
      "  | Name        | Type       | Params | In sizes        | Out sizes       \n",
      "--------------------------------------------------------------------------------\n",
      "0 | conv_vstack | VSMConv2d  | 640    | [1, 1, 28, 28]  | [1, 64, 28, 28] \n",
      "1 | conv_hstack | HSMConv2d  | 640    | [1, 1, 28, 28]  | [1, 64, 28, 28] \n",
      "2 | conv_layers | ModuleList | 1.2 M  | ?               | ?               \n",
      "3 | conv_out    | Conv2d     | 16.6 K | [1, 64, 28, 28] | [1, 256, 28, 28]\n",
      "--------------------------------------------------------------------------------\n",
      "1.2 M     Trainable params\n",
      "0         Non-trainable params\n",
      "1.2 M     Total params\n",
      "4.786     Total estimated model params size (MB)\n"
     ]
    },
    {
     "name": "stdout",
     "output_type": "stream",
     "text": [
      "Sanity Checking DataLoader 0:   0%|          | 0/2 [00:00<?, ?it/s]"
     ]
    },
    {
     "name": "stderr",
     "output_type": "stream",
     "text": [
      "/Users/armandli/journal/env/lib/python3.11/site-packages/lightning/pytorch/trainer/connectors/data_connector.py:441: The 'val_dataloader' does not have many workers which may be a bottleneck. Consider increasing the value of the `num_workers` argument` to `num_workers=11` in the `DataLoader` to improve performance.\n"
     ]
    },
    {
     "name": "stdout",
     "output_type": "stream",
     "text": [
      "                                                                           "
     ]
    },
    {
     "name": "stderr",
     "output_type": "stream",
     "text": [
      "/Users/armandli/journal/env/lib/python3.11/site-packages/lightning/pytorch/trainer/connectors/data_connector.py:441: The 'train_dataloader' does not have many workers which may be a bottleneck. Consider increasing the value of the `num_workers` argument` to `num_workers=11` in the `DataLoader` to improve performance.\n"
     ]
    },
    {
     "name": "stdout",
     "output_type": "stream",
     "text": [
      "Epoch 2:  47%|████▋     | 110/235 [13:46<15:38,  0.13it/s, v_num=1]"
     ]
    }
   ],
   "source": [
    "model, result = train_model(c_in=1, c_hidden=64)\n",
    "test_res = result[\"eval\"][0]\n",
    "print(\"Test bits per dimension: %4.3fbpd\" % (test_res[\"test_loss\"] if \"test_loss\" in test_res else test_res[\"test_bpd\"]))"
   ]
  },
  {
   "cell_type": "markdown",
   "metadata": {},
   "source": [
    "sampling"
   ]
  },
  {
   "cell_type": "code",
   "execution_count": 16,
   "metadata": {},
   "outputs": [],
   "source": [
    "def show_imgs(imgs):\n",
    "    num_imgs = imgs.shape[0] if isinstance(imgs, torch.Tensor) else len(imgs)\n",
    "    nrow = min(num_imgs, 4)\n",
    "    ncol = int(math.ceil(num_imgs/nrow))\n",
    "    imgs = torchvision.utils.make_grid(imgs, nrow=nrow, pad_value=128)\n",
    "    imgs = imgs.clamp(min=0, max=255)\n",
    "    np_imgs = imgs.cpu().numpy()\n",
    "    plt.figure(figsize=(1.5*nrow, 1.5*ncol))\n",
    "    plt.imshow(np.transpose(np_imgs, (1,2,0)), interpolation='nearest')\n",
    "    plt.axis('off')\n",
    "    plt.show()\n",
    "    plt.close()"
   ]
  },
  {
   "cell_type": "code",
   "execution_count": 17,
   "metadata": {},
   "outputs": [],
   "source": [
    "model = PixelCNN(1, 64)"
   ]
  },
  {
   "cell_type": "code",
   "execution_count": 18,
   "metadata": {},
   "outputs": [
    {
     "name": "stderr",
     "output_type": "stream",
     "text": [
      "  0%|          | 0/28 [00:00<?, ?it/s]"
     ]
    },
    {
     "name": "stderr",
     "output_type": "stream",
     "text": [
      "                                               \r"
     ]
    },
    {
     "data": {
      "image/png": "[encoded data removed]",
      "text/plain": [
       "<Figure size 600x600 with 1 Axes>"
      ]
     },
     "metadata": {},
     "output_type": "display_data"
    }
   ],
   "source": [
    "samples = model.sample(img_shape=(16,1,28,28))\n",
    "show_imgs(samples.cpu())"
   ]
  },
  {
   "cell_type": "markdown",
   "metadata": {},
   "source": [
    "test"
   ]
  },
  {
   "cell_type": "code",
   "execution_count": 26,
   "metadata": {},
   "outputs": [],
   "source": [
    "model = PixelCNN(1, 64)"
   ]
  },
  {
   "cell_type": "code",
   "execution_count": 27,
   "metadata": {},
   "outputs": [],
   "source": [
    "input = trainset[0][0].unsqueeze(0)"
   ]
  },
  {
   "cell_type": "code",
   "execution_count": 36,
   "metadata": {},
   "outputs": [
    {
     "data": {
      "text/plain": [
       "torch.Size([1, 1, 28, 28])"
      ]
     },
     "execution_count": 36,
     "metadata": {},
     "output_type": "execute_result"
    }
   ],
   "source": [
    "input.shape"
   ]
  },
  {
   "cell_type": "code",
   "execution_count": 28,
   "metadata": {},
   "outputs": [
    {
     "name": "stdout",
     "output_type": "stream",
     "text": [
      "gothere10 torch.Size([1, 256, 28, 28])\n"
     ]
    }
   ],
   "source": [
    "output = model(input)"
   ]
  },
  {
   "cell_type": "code",
   "execution_count": 19,
   "metadata": {},
   "outputs": [
    {
     "data": {
      "text/plain": [
       "tensor([[[[[-0.2760, -0.4293, -0.4306,  ..., -0.4320, -0.4322, -0.4324],\n",
       "           [-0.2763, -0.4205, -0.4220,  ..., -0.4233, -0.4235, -0.4192],\n",
       "           [-0.2754, -0.4193, -0.4207,  ..., -0.4226, -0.4231, -0.4193],\n",
       "           ...,\n",
       "           [-0.2755, -0.4193, -0.4205,  ..., -0.4226, -0.4228, -0.4192],\n",
       "           [-0.2755, -0.4193, -0.4205,  ..., -0.4226, -0.4228, -0.4192],\n",
       "           [-0.2755, -0.4193, -0.4204,  ..., -0.4226, -0.4228, -0.4192]]],\n",
       "\n",
       "\n",
       "         [[[ 0.2234,  0.1589,  0.1520,  ...,  0.1593,  0.1599,  0.1595],\n",
       "           [ 0.2258,  0.1584,  0.1560,  ...,  0.1621,  0.1620,  0.1631],\n",
       "           [ 0.2253,  0.1586,  0.1565,  ...,  0.1640,  0.1647,  0.1658],\n",
       "           ...,\n",
       "           [ 0.2255,  0.1589,  0.1569,  ...,  0.1644,  0.1649,  0.1659],\n",
       "           [ 0.2255,  0.1588,  0.1569,  ...,  0.1644,  0.1649,  0.1659],\n",
       "           [ 0.2255,  0.1588,  0.1567,  ...,  0.1644,  0.1649,  0.1659]]],\n",
       "\n",
       "\n",
       "         [[[-0.1364, -0.0224, -0.0271,  ..., -0.0229, -0.0229, -0.0236],\n",
       "           [-0.1285, -0.0168, -0.0213,  ..., -0.0169, -0.0166, -0.0192],\n",
       "           [-0.1262, -0.0153, -0.0196,  ..., -0.0137, -0.0138, -0.0176],\n",
       "           ...,\n",
       "           [-0.1260, -0.0150, -0.0192,  ..., -0.0139, -0.0141, -0.0180],\n",
       "           [-0.1260, -0.0151, -0.0193,  ..., -0.0139, -0.0141, -0.0180],\n",
       "           [-0.1260, -0.0151, -0.0194,  ..., -0.0139, -0.0141, -0.0180]]],\n",
       "\n",
       "\n",
       "         ...,\n",
       "\n",
       "\n",
       "         [[[-0.1641, -0.0978, -0.0943,  ..., -0.0794, -0.0791, -0.0788],\n",
       "           [-0.1672, -0.0906, -0.0885,  ..., -0.0737, -0.0739, -0.0693],\n",
       "           [-0.1672, -0.0910, -0.0896,  ..., -0.0750, -0.0749, -0.0704],\n",
       "           ...,\n",
       "           [-0.1666, -0.0903, -0.0892,  ..., -0.0740, -0.0742, -0.0699],\n",
       "           [-0.1666, -0.0903, -0.0891,  ..., -0.0740, -0.0742, -0.0699],\n",
       "           [-0.1666, -0.0903, -0.0892,  ..., -0.0740, -0.0742, -0.0699]]],\n",
       "\n",
       "\n",
       "         [[[ 0.0316,  0.0900,  0.1084,  ...,  0.1304,  0.1297,  0.1293],\n",
       "           [ 0.0280,  0.0852,  0.1042,  ...,  0.1275,  0.1265,  0.1264],\n",
       "           [ 0.0277,  0.0850,  0.1048,  ...,  0.1282,  0.1273,  0.1278],\n",
       "           ...,\n",
       "           [ 0.0278,  0.0849,  0.1047,  ...,  0.1276,  0.1268,  0.1273],\n",
       "           [ 0.0278,  0.0849,  0.1047,  ...,  0.1276,  0.1268,  0.1273],\n",
       "           [ 0.0278,  0.0849,  0.1046,  ...,  0.1276,  0.1268,  0.1273]]],\n",
       "\n",
       "\n",
       "         [[[ 0.0410, -0.0602, -0.0648,  ..., -0.0459, -0.0456, -0.0458],\n",
       "           [ 0.0416, -0.0598, -0.0659,  ..., -0.0454, -0.0460, -0.0437],\n",
       "           [ 0.0412, -0.0589, -0.0641,  ..., -0.0435, -0.0437, -0.0426],\n",
       "           ...,\n",
       "           [ 0.0416, -0.0585, -0.0635,  ..., -0.0434, -0.0437, -0.0428],\n",
       "           [ 0.0416, -0.0585, -0.0635,  ..., -0.0434, -0.0437, -0.0428],\n",
       "           [ 0.0416, -0.0585, -0.0635,  ..., -0.0434, -0.0437, -0.0428]]]]],\n",
       "       grad_fn=<ViewBackward0>)"
      ]
     },
     "execution_count": 19,
     "metadata": {},
     "output_type": "execute_result"
    }
   ],
   "source": [
    "output"
   ]
  },
  {
   "cell_type": "code",
   "execution_count": 29,
   "metadata": {},
   "outputs": [
    {
     "data": {
      "text/plain": [
       "torch.Size([1, 256, 1, 28, 28])"
      ]
     },
     "execution_count": 29,
     "metadata": {},
     "output_type": "execute_result"
    }
   ],
   "source": [
    "output.shape"
   ]
  },
  {
   "cell_type": "code",
   "execution_count": 32,
   "metadata": {},
   "outputs": [
    {
     "data": {
      "text/plain": [
       "torch.Size([1, 1, 28, 28])"
      ]
     },
     "execution_count": 32,
     "metadata": {},
     "output_type": "execute_result"
    }
   ],
   "source": [
    "nll = F.cross_entropy(output, input, reduction='none')\n",
    "nll.shape"
   ]
  },
  {
   "cell_type": "code",
   "execution_count": 37,
   "metadata": {},
   "outputs": [
    {
     "data": {
      "text/plain": [
       "tensor([[[[5.3618, 5.3068, 5.3144, 5.2944, 5.2867, 5.2922, 5.2917, 5.2914,\n",
       "           5.2915, 5.2914, 5.2914, 5.2914, 5.2914, 5.2914, 5.2914, 5.2914,\n",
       "           5.2914, 5.2914, 5.2914, 5.2914, 5.2914, 5.2914, 5.2914, 5.2915,\n",
       "           5.2914, 5.2914, 5.2917, 5.2921],\n",
       "          [5.3523, 5.2972, 5.3034, 5.2833, 5.2755, 5.2809, 5.2804, 5.2802,\n",
       "           5.2802, 5.2802, 5.2802, 5.2802, 5.2802, 5.2802, 5.2802, 5.2802,\n",
       "           5.2802, 5.2802, 5.2802, 5.2802, 5.2802, 5.2802, 5.2802, 5.2802,\n",
       "           5.2801, 5.2803, 5.2802, 5.2860],\n",
       "          [5.3518, 5.2972, 5.3027, 5.2831, 5.2753, 5.2806, 5.2802, 5.2800,\n",
       "           5.2800, 5.2800, 5.2800, 5.2800, 5.2800, 5.2800, 5.2800, 5.2800,\n",
       "           5.2800, 5.2800, 5.2800, 5.2800, 5.2800, 5.2800, 5.2800, 5.2800,\n",
       "           5.2799, 5.2802, 5.2803, 5.2872],\n",
       "          [5.3517, 5.2971, 5.3023, 5.2826, 5.2747, 5.2800, 5.2796, 5.2794,\n",
       "           5.2794, 5.2794, 5.2794, 5.2794, 5.2794, 5.2794, 5.2794, 5.2794,\n",
       "           5.2794, 5.2794, 5.2794, 5.2794, 5.2794, 5.2794, 5.2794, 5.2795,\n",
       "           5.2794, 5.2796, 5.2798, 5.2868],\n",
       "          [5.3519, 5.2974, 5.3024, 5.2827, 5.2744, 5.2797, 5.2792, 5.2790,\n",
       "           5.2791, 5.2790, 5.2790, 5.2790, 5.2790, 5.2790, 5.2790, 5.2790,\n",
       "           5.2790, 5.2790, 5.2790, 5.2790, 5.2790, 5.2791, 5.2790, 5.2791,\n",
       "           5.2791, 5.2793, 5.2795, 5.2862],\n",
       "          [5.3519, 5.2974, 5.3024, 5.2827, 5.2744, 5.2796, 5.2792, 5.2789,\n",
       "           5.2790, 5.2790, 5.2790, 5.2790, 5.9649, 5.5241, 5.5116, 5.5101,\n",
       "           5.5238, 5.5975, 5.2088, 5.7252, 5.5803, 5.4626, 5.8777, 5.5979,\n",
       "           5.3626, 5.3028, 5.2900, 5.2779],\n",
       "          [5.3519, 5.2974, 5.3024, 5.2827, 5.2744, 5.2796, 5.2792, 5.2789,\n",
       "           5.6418, 5.6619, 5.4679, 5.4438, 5.5934, 5.5048, 5.5154, 5.5203,\n",
       "           5.5195, 5.5208, 5.6156, 5.4182, 5.5125, 5.0788, 5.3235, 5.7526,\n",
       "           5.3297, 5.2968, 5.2809, 5.2796],\n",
       "          [5.3519, 5.2974, 5.3025, 5.2827, 5.2744, 5.2796, 5.2792, 5.6848,\n",
       "           5.6738, 5.5075, 5.5211, 5.5200, 5.5220, 5.5227, 5.5249, 5.5267,\n",
       "           5.5262, 5.4430, 5.5765, 5.5342, 5.5550, 5.6096, 5.8360, 5.3091,\n",
       "           5.2829, 5.2818, 5.2768, 5.2847],\n",
       "          [5.3519, 5.2974, 5.3025, 5.2827, 5.2744, 5.2797, 5.2792, 5.5250,\n",
       "           5.2213, 5.5048, 5.5254, 5.5243, 5.5251, 5.5246, 5.4243, 5.6623,\n",
       "           5.8054, 5.4717, 5.4023, 5.2979, 5.3151, 5.2723, 5.2726, 5.2812,\n",
       "           5.2789, 5.2788, 5.2792, 5.2862],\n",
       "          [5.3519, 5.2974, 5.3025, 5.2827, 5.2744, 5.2797, 5.2795, 5.2797,\n",
       "           5.2101, 5.5019, 5.4145, 5.5084, 5.5169, 5.5250, 5.5105, 5.3137,\n",
       "           5.5500, 5.4573, 5.3448, 5.2766, 5.3036, 5.2763, 5.2722, 5.2801,\n",
       "           5.2794, 5.2793, 5.2795, 5.2863],\n",
       "          [5.3519, 5.2974, 5.3025, 5.2827, 5.2744, 5.2798, 5.2795, 5.2793,\n",
       "           5.2820, 5.3709, 5.7299, 5.4615, 5.4981, 5.3591, 5.3302, 5.3139,\n",
       "           5.2876, 5.2735, 5.2781, 5.2799, 5.2783, 5.2786, 5.2788, 5.2789,\n",
       "           5.2791, 5.2793, 5.2794, 5.2862],\n",
       "          [5.3519, 5.2974, 5.3025, 5.2827, 5.2744, 5.2797, 5.2794, 5.2790,\n",
       "           5.2792, 5.2799, 5.2796, 5.4755, 5.4957, 5.3238, 5.6684, 5.3062,\n",
       "           5.3026, 5.2696, 5.2732, 5.2806, 5.2789, 5.2788, 5.2791, 5.2789,\n",
       "           5.2790, 5.2793, 5.2794, 5.2862],\n",
       "          [5.3519, 5.2974, 5.3025, 5.2827, 5.2744, 5.2796, 5.2793, 5.2789,\n",
       "           5.2789, 5.2790, 5.2789, 5.6766, 5.5866, 5.5036, 5.7058, 5.3241,\n",
       "           5.3134, 5.2814, 5.2693, 5.2781, 5.2799, 5.2790, 5.2790, 5.2790,\n",
       "           5.2790, 5.2793, 5.2794, 5.2862],\n",
       "          [5.3519, 5.2974, 5.3025, 5.2827, 5.2744, 5.2796, 5.2792, 5.2790,\n",
       "           5.2790, 5.2792, 5.2791, 5.2794, 5.7190, 5.5331, 5.5821, 5.5461,\n",
       "           5.3878, 5.6131, 5.2866, 5.2881, 5.2743, 5.2758, 5.2799, 5.2791,\n",
       "           5.2790, 5.2793, 5.2794, 5.2862],\n",
       "          [5.3519, 5.2974, 5.3025, 5.2827, 5.2744, 5.2796, 5.2792, 5.2789,\n",
       "           5.2791, 5.2792, 5.2793, 5.2790, 5.2801, 5.7705, 5.1554, 5.5161,\n",
       "           5.5243, 5.5046, 5.4547, 5.3124, 5.2868, 5.2742, 5.2760, 5.2791,\n",
       "           5.2793, 5.2793, 5.2794, 5.2862],\n",
       "          [5.3519, 5.2974, 5.3025, 5.2827, 5.2744, 5.2796, 5.2792, 5.2789,\n",
       "           5.2790, 5.2791, 5.2792, 5.2790, 5.2789, 5.2817, 5.5344, 5.4138,\n",
       "           5.5067, 5.5227, 5.5196, 5.7214, 5.3131, 5.2911, 5.2743, 5.2747,\n",
       "           5.2793, 5.2796, 5.2794, 5.2862],\n",
       "          [5.3519, 5.2974, 5.3025, 5.2827, 5.2744, 5.2796, 5.2792, 5.2789,\n",
       "           5.2790, 5.2790, 5.2792, 5.2792, 5.2790, 5.2792, 5.2809, 5.5874,\n",
       "           5.7406, 5.1437, 5.5180, 5.4348, 5.3902, 5.3014, 5.2983, 5.2698,\n",
       "           5.2732, 5.2809, 5.2796, 5.2862],\n",
       "          [5.3519, 5.2974, 5.3025, 5.2827, 5.2744, 5.2796, 5.2792, 5.2789,\n",
       "           5.2790, 5.2790, 5.2790, 5.2792, 5.2791, 5.2789, 5.2791, 5.2800,\n",
       "           5.2825, 5.3120, 5.5098, 5.4041, 5.7784, 5.3312, 5.3032, 5.2796,\n",
       "           5.2703, 5.2786, 5.2802, 5.2863],\n",
       "          [5.3519, 5.2974, 5.3025, 5.2827, 5.2744, 5.2796, 5.2792, 5.2789,\n",
       "           5.2790, 5.2790, 5.2790, 5.2790, 5.2792, 5.2790, 5.8153, 5.8382,\n",
       "           5.2999, 5.5049, 5.5169, 5.5125, 5.6871, 5.2990, 5.3023, 5.2701,\n",
       "           5.2720, 5.2807, 5.2796, 5.2862],\n",
       "          [5.3519, 5.2974, 5.3025, 5.2827, 5.2744, 5.2796, 5.2792, 5.2789,\n",
       "           5.2790, 5.2790, 5.2790, 5.2790, 5.8383, 5.7390, 5.4565, 5.5115,\n",
       "           5.5203, 5.5220, 5.9121, 5.6498, 5.3795, 5.2967, 5.2986, 5.2697,\n",
       "           5.2732, 5.2807, 5.2796, 5.2862],\n",
       "          [5.3519, 5.2974, 5.3025, 5.2827, 5.2744, 5.2796, 5.2792, 5.2789,\n",
       "           5.2790, 5.2790, 5.5081, 5.6935, 5.4665, 5.5085, 5.5200, 5.5231,\n",
       "           5.5242, 5.4910, 5.5449, 5.3395, 5.2987, 5.2826, 5.2718, 5.2770,\n",
       "           5.2797, 5.2792, 5.2794, 5.2862],\n",
       "          [5.3519, 5.2974, 5.3025, 5.2827, 5.2744, 5.2796, 5.2792, 5.2789,\n",
       "           5.4873, 6.0683, 5.2209, 5.5046, 5.5197, 5.5221, 5.5242, 5.4280,\n",
       "           5.6429, 5.5576, 5.3014, 5.2840, 5.2726, 5.2763, 5.2789, 5.2789,\n",
       "           5.2791, 5.2792, 5.2794, 5.2862],\n",
       "          [5.3519, 5.2974, 5.3025, 5.2827, 5.2744, 5.2796, 5.5271, 5.2877,\n",
       "           5.2355, 5.5116, 5.5185, 5.5217, 5.5235, 5.3278, 5.3090, 5.6751,\n",
       "           5.3047, 5.2835, 5.2737, 5.2763, 5.2787, 5.2790, 5.2791, 5.2790,\n",
       "           5.2791, 5.2792, 5.2794, 5.2862],\n",
       "          [5.3519, 5.2974, 5.3025, 5.2827, 5.7759, 5.6557, 5.6900, 5.5122,\n",
       "           5.5194, 5.5239, 5.5235, 5.6676, 5.3311, 5.5564, 5.3093, 5.2920,\n",
       "           5.2721, 5.2743, 5.2788, 5.2789, 5.2791, 5.2791, 5.2790, 5.2790,\n",
       "           5.2791, 5.2793, 5.2794, 5.2862],\n",
       "          [5.3519, 5.2974, 5.3025, 5.2827, 5.6401, 5.4967, 5.5167, 5.5241,\n",
       "           5.3969, 5.5253, 5.4405, 5.5824, 5.2962, 5.2940, 5.2774, 5.2736,\n",
       "           5.2783, 5.2788, 5.2791, 5.2791, 5.2790, 5.2790, 5.2790, 5.2790,\n",
       "           5.2790, 5.2793, 5.2794, 5.2862],\n",
       "          [5.3519, 5.2974, 5.3026, 5.2828, 5.2783, 5.2885, 5.2899, 5.2901,\n",
       "           5.2888, 5.2858, 5.2846, 5.2809, 5.2790, 5.2782, 5.2779, 5.2784,\n",
       "           5.2791, 5.2791, 5.2790, 5.2790, 5.2790, 5.2790, 5.2790, 5.2790,\n",
       "           5.2790, 5.2793, 5.2794, 5.2862],\n",
       "          [5.3519, 5.2975, 5.3027, 5.2831, 5.2751, 5.2808, 5.2803, 5.2795,\n",
       "           5.2790, 5.2787, 5.2787, 5.2784, 5.2786, 5.2787, 5.2791, 5.2792,\n",
       "           5.2790, 5.2790, 5.2790, 5.2790, 5.2790, 5.2790, 5.2790, 5.2790,\n",
       "           5.2790, 5.2793, 5.2794, 5.2862],\n",
       "          [5.3519, 5.2975, 5.3026, 5.2828, 5.2743, 5.2794, 5.2789, 5.2789,\n",
       "           5.2791, 5.2790, 5.2791, 5.2790, 5.2791, 5.2791, 5.2790, 5.2790,\n",
       "           5.2790, 5.2790, 5.2790, 5.2790, 5.2790, 5.2790, 5.2790, 5.2790,\n",
       "           5.2790, 5.2793, 5.2794, 5.2862]]]], grad_fn=<ViewBackward0>)"
      ]
     },
     "execution_count": 37,
     "metadata": {},
     "output_type": "execute_result"
    }
   ],
   "source": [
    "nll"
   ]
  },
  {
   "cell_type": "code",
   "execution_count": 33,
   "metadata": {},
   "outputs": [
    {
     "data": {
      "text/plain": [
       "tensor([7.7039], grad_fn=<MulBackward0>)"
      ]
     },
     "execution_count": 33,
     "metadata": {},
     "output_type": "execute_result"
    }
   ],
   "source": [
    "bpd = nll.mean(dim=[1,2,3]) * np.log2(np.exp(1))\n",
    "bpd"
   ]
  },
  {
   "cell_type": "code",
   "execution_count": 34,
   "metadata": {},
   "outputs": [
    {
     "data": {
      "text/plain": [
       "tensor(7.7039, grad_fn=<MeanBackward0>)"
      ]
     },
     "execution_count": 34,
     "metadata": {},
     "output_type": "execute_result"
    }
   ],
   "source": [
    "bpd.mean()"
   ]
  },
  {
   "cell_type": "code",
   "execution_count": 35,
   "metadata": {},
   "outputs": [
    {
     "data": {
      "text/plain": [
       "1.4426950408889634"
      ]
     },
     "execution_count": 35,
     "metadata": {},
     "output_type": "execute_result"
    }
   ],
   "source": [
    "np.log2(np.exp(1))"
   ]
  },
  {
   "cell_type": "code",
   "execution_count": null,
   "metadata": {},
   "outputs": [],
   "source": []
  }
 ],
 "metadata": {
  "kernelspec": {
   "display_name": "env",
   "language": "python",
   "name": "python3"
  },
  "language_info": {
   "codemirror_mode": {
    "name": "ipython",
    "version": 3
   },
   "file_extension": ".py",
   "mimetype": "text/x-python",
   "name": "python",
   "nbconvert_exporter": "python",
   "pygments_lexer": "ipython3",
   "version": "3.11.3"
  }
 },
 "nbformat": 4,
 "nbformat_minor": 2
}
